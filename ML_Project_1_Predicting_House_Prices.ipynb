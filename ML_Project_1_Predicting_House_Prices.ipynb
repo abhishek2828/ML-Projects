{
  "nbformat": 4,
  "nbformat_minor": 0,
  "metadata": {
    "colab": {
      "provenance": [],
      "authorship_tag": "ABX9TyNhFV74f7r3Mwac32PC8wSc",
      "include_colab_link": true
    },
    "kernelspec": {
      "name": "python3",
      "display_name": "Python 3"
    },
    "language_info": {
      "name": "python"
    }
  },
  "cells": [
    {
      "cell_type": "markdown",
      "metadata": {
        "id": "view-in-github",
        "colab_type": "text"
      },
      "source": [
        "<a href=\"https://colab.research.google.com/github/abhishek2828/ML-Projects/blob/main/ML_Project_1_Predicting_House_Prices.ipynb\" target=\"_parent\"><img src=\"https://colab.research.google.com/assets/colab-badge.svg\" alt=\"Open In Colab\"/></a>"
      ]
    },
    {
      "cell_type": "markdown",
      "source": [
        "Importing the Dependencies"
      ],
      "metadata": {
        "id": "REXZvRrO-SDk"
      }
    },
    {
      "cell_type": "code",
      "source": [
        "import numpy as np\n",
        "import pandas as pd\n",
        "import matplotlib.pyplot as plt\n",
        "import seaborn as sns\n",
        "import sklearn.datasets\n",
        "from sklearn.model_selection import train_test_split\n",
        "import matplotlib.pyplot as plt\n",
        "from matplotlib.widgets import TextBox\n",
        "from matplotlib.widgets import Button\n",
        "import ipywidgets as widgets\n",
        "import tensorflow as tf\n",
        "from tensorflow.keras.models import Sequential\n",
        "from tensorflow.keras.layers import Dense"
      ],
      "metadata": {
        "id": "QTzzMkhR-Gkh"
      },
      "execution_count": 1,
      "outputs": []
    },
    {
      "cell_type": "code",
      "source": [
        "house_price_dataset = sklearn.datasets.fetch_california_housing()\n",
        "#house_price_dataset = np.array(house_price_dataset)\n",
        "print ((house_price_dataset))"
      ],
      "metadata": {
        "colab": {
          "base_uri": "https://localhost:8080/"
        },
        "id": "nKtWa6sgT1iA",
        "outputId": "985ee9d5-fca7-46ad-8c00-90b99c2360f9"
      },
      "execution_count": 2,
      "outputs": [
        {
          "output_type": "stream",
          "name": "stdout",
          "text": [
            "{'data': array([[   8.3252    ,   41.        ,    6.98412698, ...,    2.55555556,\n",
            "          37.88      , -122.23      ],\n",
            "       [   8.3014    ,   21.        ,    6.23813708, ...,    2.10984183,\n",
            "          37.86      , -122.22      ],\n",
            "       [   7.2574    ,   52.        ,    8.28813559, ...,    2.80225989,\n",
            "          37.85      , -122.24      ],\n",
            "       ...,\n",
            "       [   1.7       ,   17.        ,    5.20554273, ...,    2.3256351 ,\n",
            "          39.43      , -121.22      ],\n",
            "       [   1.8672    ,   18.        ,    5.32951289, ...,    2.12320917,\n",
            "          39.43      , -121.32      ],\n",
            "       [   2.3886    ,   16.        ,    5.25471698, ...,    2.61698113,\n",
            "          39.37      , -121.24      ]]), 'target': array([4.526, 3.585, 3.521, ..., 0.923, 0.847, 0.894]), 'frame': None, 'target_names': ['MedHouseVal'], 'feature_names': ['MedInc', 'HouseAge', 'AveRooms', 'AveBedrms', 'Population', 'AveOccup', 'Latitude', 'Longitude'], 'DESCR': '.. _california_housing_dataset:\\n\\nCalifornia Housing dataset\\n--------------------------\\n\\n**Data Set Characteristics:**\\n\\n    :Number of Instances: 20640\\n\\n    :Number of Attributes: 8 numeric, predictive attributes and the target\\n\\n    :Attribute Information:\\n        - MedInc        median income in block group\\n        - HouseAge      median house age in block group\\n        - AveRooms      average number of rooms per household\\n        - AveBedrms     average number of bedrooms per household\\n        - Population    block group population\\n        - AveOccup      average number of household members\\n        - Latitude      block group latitude\\n        - Longitude     block group longitude\\n\\n    :Missing Attribute Values: None\\n\\nThis dataset was obtained from the StatLib repository.\\nhttps://www.dcc.fc.up.pt/~ltorgo/Regression/cal_housing.html\\n\\nThe target variable is the median house value for California districts,\\nexpressed in hundreds of thousands of dollars ($100,000).\\n\\nThis dataset was derived from the 1990 U.S. census, using one row per census\\nblock group. A block group is the smallest geographical unit for which the U.S.\\nCensus Bureau publishes sample data (a block group typically has a population\\nof 600 to 3,000 people).\\n\\nA household is a group of people residing within a home. Since the average\\nnumber of rooms and bedrooms in this dataset are provided per household, these\\ncolumns may take surprisingly large values for block groups with few households\\nand many empty houses, such as vacation resorts.\\n\\nIt can be downloaded/loaded using the\\n:func:`sklearn.datasets.fetch_california_housing` function.\\n\\n.. topic:: References\\n\\n    - Pace, R. Kelley and Ronald Barry, Sparse Spatial Autoregressions,\\n      Statistics and Probability Letters, 33 (1997) 291-297\\n'}\n"
          ]
        }
      ]
    },
    {
      "cell_type": "code",
      "source": [
        "# Loading teh dataset to a pandas dataframe\n",
        "house_prices = pd.DataFrame(house_price_dataset.data, columns = house_price_dataset.feature_names) # columns includes the name of all the features names\n",
        "print(house_prices)"
      ],
      "metadata": {
        "colab": {
          "base_uri": "https://localhost:8080/"
        },
        "id": "yA2LBnklUvNn",
        "outputId": "dc6c2272-454e-4ae6-a126-5d8b08db3489"
      },
      "execution_count": 3,
      "outputs": [
        {
          "output_type": "stream",
          "name": "stdout",
          "text": [
            "       MedInc  HouseAge  AveRooms  ...  AveOccup  Latitude  Longitude\n",
            "0      8.3252      41.0  6.984127  ...  2.555556     37.88    -122.23\n",
            "1      8.3014      21.0  6.238137  ...  2.109842     37.86    -122.22\n",
            "2      7.2574      52.0  8.288136  ...  2.802260     37.85    -122.24\n",
            "3      5.6431      52.0  5.817352  ...  2.547945     37.85    -122.25\n",
            "4      3.8462      52.0  6.281853  ...  2.181467     37.85    -122.25\n",
            "...       ...       ...       ...  ...       ...       ...        ...\n",
            "20635  1.5603      25.0  5.045455  ...  2.560606     39.48    -121.09\n",
            "20636  2.5568      18.0  6.114035  ...  3.122807     39.49    -121.21\n",
            "20637  1.7000      17.0  5.205543  ...  2.325635     39.43    -121.22\n",
            "20638  1.8672      18.0  5.329513  ...  2.123209     39.43    -121.32\n",
            "20639  2.3886      16.0  5.254717  ...  2.616981     39.37    -121.24\n",
            "\n",
            "[20640 rows x 8 columns]\n"
          ]
        }
      ]
    },
    {
      "cell_type": "code",
      "source": [
        "#Adding the price column to the dataframe\n",
        "house_prices['Prices'] = house_price_dataset.target\n",
        "print(house_prices)"
      ],
      "metadata": {
        "colab": {
          "base_uri": "https://localhost:8080/"
        },
        "id": "_l0FlrYSXr0i",
        "outputId": "395e6e60-a1ae-4331-c311-d238068a8d83"
      },
      "execution_count": 4,
      "outputs": [
        {
          "output_type": "stream",
          "name": "stdout",
          "text": [
            "       MedInc  HouseAge  AveRooms  ...  Latitude  Longitude  Prices\n",
            "0      8.3252      41.0  6.984127  ...     37.88    -122.23   4.526\n",
            "1      8.3014      21.0  6.238137  ...     37.86    -122.22   3.585\n",
            "2      7.2574      52.0  8.288136  ...     37.85    -122.24   3.521\n",
            "3      5.6431      52.0  5.817352  ...     37.85    -122.25   3.413\n",
            "4      3.8462      52.0  6.281853  ...     37.85    -122.25   3.422\n",
            "...       ...       ...       ...  ...       ...        ...     ...\n",
            "20635  1.5603      25.0  5.045455  ...     39.48    -121.09   0.781\n",
            "20636  2.5568      18.0  6.114035  ...     39.49    -121.21   0.771\n",
            "20637  1.7000      17.0  5.205543  ...     39.43    -121.22   0.923\n",
            "20638  1.8672      18.0  5.329513  ...     39.43    -121.32   0.847\n",
            "20639  2.3886      16.0  5.254717  ...     39.37    -121.24   0.894\n",
            "\n",
            "[20640 rows x 9 columns]\n"
          ]
        }
      ]
    },
    {
      "cell_type": "code",
      "source": [
        "#To check the Rows and Columns in our table. (Rows, Columns)\n",
        "print(house_prices.shape)"
      ],
      "metadata": {
        "colab": {
          "base_uri": "https://localhost:8080/"
        },
        "id": "43zYA-hh-kLC",
        "outputId": "bcd23d05-90c6-46e3-f79b-0ee3a5a18d03"
      },
      "execution_count": 5,
      "outputs": [
        {
          "output_type": "stream",
          "name": "stdout",
          "text": [
            "(20640, 9)\n"
          ]
        }
      ]
    },
    {
      "cell_type": "code",
      "source": [
        "#To check if there are any missing values in each column\n",
        "house_prices.isnull().sum()"
      ],
      "metadata": {
        "colab": {
          "base_uri": "https://localhost:8080/"
        },
        "id": "0iYFawzW-04Q",
        "outputId": "30af4747-511f-44da-bd98-dd5ca85990ff"
      },
      "execution_count": 6,
      "outputs": [
        {
          "output_type": "execute_result",
          "data": {
            "text/plain": [
              "MedInc        0\n",
              "HouseAge      0\n",
              "AveRooms      0\n",
              "AveBedrms     0\n",
              "Population    0\n",
              "AveOccup      0\n",
              "Latitude      0\n",
              "Longitude     0\n",
              "Prices        0\n",
              "dtype: int64"
            ]
          },
          "metadata": {},
          "execution_count": 6
        }
      ]
    },
    {
      "cell_type": "code",
      "source": [
        "#statistical values of the dataset\n",
        "house_prices.describe()"
      ],
      "metadata": {
        "colab": {
          "base_uri": "https://localhost:8080/",
          "height": 300
        },
        "id": "gF9Wl4ye_71G",
        "outputId": "148d9bf5-d2a0-4bb3-b7aa-359ddef7fe8d"
      },
      "execution_count": 7,
      "outputs": [
        {
          "output_type": "execute_result",
          "data": {
            "text/plain": [
              "             MedInc      HouseAge  ...     Longitude        Prices\n",
              "count  20640.000000  20640.000000  ...  20640.000000  20640.000000\n",
              "mean       3.870671     28.639486  ...   -119.569704      2.068558\n",
              "std        1.899822     12.585558  ...      2.003532      1.153956\n",
              "min        0.499900      1.000000  ...   -124.350000      0.149990\n",
              "25%        2.563400     18.000000  ...   -121.800000      1.196000\n",
              "50%        3.534800     29.000000  ...   -118.490000      1.797000\n",
              "75%        4.743250     37.000000  ...   -118.010000      2.647250\n",
              "max       15.000100     52.000000  ...   -114.310000      5.000010\n",
              "\n",
              "[8 rows x 9 columns]"
            ],
            "text/html": [
              "\n",
              "  <div id=\"df-492e4f38-d836-4d23-a9d4-de3ee8a25869\" class=\"colab-df-container\">\n",
              "    <div>\n",
              "<style scoped>\n",
              "    .dataframe tbody tr th:only-of-type {\n",
              "        vertical-align: middle;\n",
              "    }\n",
              "\n",
              "    .dataframe tbody tr th {\n",
              "        vertical-align: top;\n",
              "    }\n",
              "\n",
              "    .dataframe thead th {\n",
              "        text-align: right;\n",
              "    }\n",
              "</style>\n",
              "<table border=\"1\" class=\"dataframe\">\n",
              "  <thead>\n",
              "    <tr style=\"text-align: right;\">\n",
              "      <th></th>\n",
              "      <th>MedInc</th>\n",
              "      <th>HouseAge</th>\n",
              "      <th>AveRooms</th>\n",
              "      <th>AveBedrms</th>\n",
              "      <th>Population</th>\n",
              "      <th>AveOccup</th>\n",
              "      <th>Latitude</th>\n",
              "      <th>Longitude</th>\n",
              "      <th>Prices</th>\n",
              "    </tr>\n",
              "  </thead>\n",
              "  <tbody>\n",
              "    <tr>\n",
              "      <th>count</th>\n",
              "      <td>20640.000000</td>\n",
              "      <td>20640.000000</td>\n",
              "      <td>20640.000000</td>\n",
              "      <td>20640.000000</td>\n",
              "      <td>20640.000000</td>\n",
              "      <td>20640.000000</td>\n",
              "      <td>20640.000000</td>\n",
              "      <td>20640.000000</td>\n",
              "      <td>20640.000000</td>\n",
              "    </tr>\n",
              "    <tr>\n",
              "      <th>mean</th>\n",
              "      <td>3.870671</td>\n",
              "      <td>28.639486</td>\n",
              "      <td>5.429000</td>\n",
              "      <td>1.096675</td>\n",
              "      <td>1425.476744</td>\n",
              "      <td>3.070655</td>\n",
              "      <td>35.631861</td>\n",
              "      <td>-119.569704</td>\n",
              "      <td>2.068558</td>\n",
              "    </tr>\n",
              "    <tr>\n",
              "      <th>std</th>\n",
              "      <td>1.899822</td>\n",
              "      <td>12.585558</td>\n",
              "      <td>2.474173</td>\n",
              "      <td>0.473911</td>\n",
              "      <td>1132.462122</td>\n",
              "      <td>10.386050</td>\n",
              "      <td>2.135952</td>\n",
              "      <td>2.003532</td>\n",
              "      <td>1.153956</td>\n",
              "    </tr>\n",
              "    <tr>\n",
              "      <th>min</th>\n",
              "      <td>0.499900</td>\n",
              "      <td>1.000000</td>\n",
              "      <td>0.846154</td>\n",
              "      <td>0.333333</td>\n",
              "      <td>3.000000</td>\n",
              "      <td>0.692308</td>\n",
              "      <td>32.540000</td>\n",
              "      <td>-124.350000</td>\n",
              "      <td>0.149990</td>\n",
              "    </tr>\n",
              "    <tr>\n",
              "      <th>25%</th>\n",
              "      <td>2.563400</td>\n",
              "      <td>18.000000</td>\n",
              "      <td>4.440716</td>\n",
              "      <td>1.006079</td>\n",
              "      <td>787.000000</td>\n",
              "      <td>2.429741</td>\n",
              "      <td>33.930000</td>\n",
              "      <td>-121.800000</td>\n",
              "      <td>1.196000</td>\n",
              "    </tr>\n",
              "    <tr>\n",
              "      <th>50%</th>\n",
              "      <td>3.534800</td>\n",
              "      <td>29.000000</td>\n",
              "      <td>5.229129</td>\n",
              "      <td>1.048780</td>\n",
              "      <td>1166.000000</td>\n",
              "      <td>2.818116</td>\n",
              "      <td>34.260000</td>\n",
              "      <td>-118.490000</td>\n",
              "      <td>1.797000</td>\n",
              "    </tr>\n",
              "    <tr>\n",
              "      <th>75%</th>\n",
              "      <td>4.743250</td>\n",
              "      <td>37.000000</td>\n",
              "      <td>6.052381</td>\n",
              "      <td>1.099526</td>\n",
              "      <td>1725.000000</td>\n",
              "      <td>3.282261</td>\n",
              "      <td>37.710000</td>\n",
              "      <td>-118.010000</td>\n",
              "      <td>2.647250</td>\n",
              "    </tr>\n",
              "    <tr>\n",
              "      <th>max</th>\n",
              "      <td>15.000100</td>\n",
              "      <td>52.000000</td>\n",
              "      <td>141.909091</td>\n",
              "      <td>34.066667</td>\n",
              "      <td>35682.000000</td>\n",
              "      <td>1243.333333</td>\n",
              "      <td>41.950000</td>\n",
              "      <td>-114.310000</td>\n",
              "      <td>5.000010</td>\n",
              "    </tr>\n",
              "  </tbody>\n",
              "</table>\n",
              "</div>\n",
              "    <div class=\"colab-df-buttons\">\n",
              "\n",
              "  <div class=\"colab-df-container\">\n",
              "    <button class=\"colab-df-convert\" onclick=\"convertToInteractive('df-492e4f38-d836-4d23-a9d4-de3ee8a25869')\"\n",
              "            title=\"Convert this dataframe to an interactive table.\"\n",
              "            style=\"display:none;\">\n",
              "\n",
              "  <svg xmlns=\"http://www.w3.org/2000/svg\" height=\"24px\" viewBox=\"0 -960 960 960\">\n",
              "    <path d=\"M120-120v-720h720v720H120Zm60-500h600v-160H180v160Zm220 220h160v-160H400v160Zm0 220h160v-160H400v160ZM180-400h160v-160H180v160Zm440 0h160v-160H620v160ZM180-180h160v-160H180v160Zm440 0h160v-160H620v160Z\"/>\n",
              "  </svg>\n",
              "    </button>\n",
              "\n",
              "  <style>\n",
              "    .colab-df-container {\n",
              "      display:flex;\n",
              "      gap: 12px;\n",
              "    }\n",
              "\n",
              "    .colab-df-convert {\n",
              "      background-color: #E8F0FE;\n",
              "      border: none;\n",
              "      border-radius: 50%;\n",
              "      cursor: pointer;\n",
              "      display: none;\n",
              "      fill: #1967D2;\n",
              "      height: 32px;\n",
              "      padding: 0 0 0 0;\n",
              "      width: 32px;\n",
              "    }\n",
              "\n",
              "    .colab-df-convert:hover {\n",
              "      background-color: #E2EBFA;\n",
              "      box-shadow: 0px 1px 2px rgba(60, 64, 67, 0.3), 0px 1px 3px 1px rgba(60, 64, 67, 0.15);\n",
              "      fill: #174EA6;\n",
              "    }\n",
              "\n",
              "    .colab-df-buttons div {\n",
              "      margin-bottom: 4px;\n",
              "    }\n",
              "\n",
              "    [theme=dark] .colab-df-convert {\n",
              "      background-color: #3B4455;\n",
              "      fill: #D2E3FC;\n",
              "    }\n",
              "\n",
              "    [theme=dark] .colab-df-convert:hover {\n",
              "      background-color: #434B5C;\n",
              "      box-shadow: 0px 1px 3px 1px rgba(0, 0, 0, 0.15);\n",
              "      filter: drop-shadow(0px 1px 2px rgba(0, 0, 0, 0.3));\n",
              "      fill: #FFFFFF;\n",
              "    }\n",
              "  </style>\n",
              "\n",
              "    <script>\n",
              "      const buttonEl =\n",
              "        document.querySelector('#df-492e4f38-d836-4d23-a9d4-de3ee8a25869 button.colab-df-convert');\n",
              "      buttonEl.style.display =\n",
              "        google.colab.kernel.accessAllowed ? 'block' : 'none';\n",
              "\n",
              "      async function convertToInteractive(key) {\n",
              "        const element = document.querySelector('#df-492e4f38-d836-4d23-a9d4-de3ee8a25869');\n",
              "        const dataTable =\n",
              "          await google.colab.kernel.invokeFunction('convertToInteractive',\n",
              "                                                    [key], {});\n",
              "        if (!dataTable) return;\n",
              "\n",
              "        const docLinkHtml = 'Like what you see? Visit the ' +\n",
              "          '<a target=\"_blank\" href=https://colab.research.google.com/notebooks/data_table.ipynb>data table notebook</a>'\n",
              "          + ' to learn more about interactive tables.';\n",
              "        element.innerHTML = '';\n",
              "        dataTable['output_type'] = 'display_data';\n",
              "        await google.colab.output.renderOutput(dataTable, element);\n",
              "        const docLink = document.createElement('div');\n",
              "        docLink.innerHTML = docLinkHtml;\n",
              "        element.appendChild(docLink);\n",
              "      }\n",
              "    </script>\n",
              "  </div>\n",
              "\n",
              "\n",
              "<div id=\"df-6020274a-5d3c-47a6-ade8-6faa1e7855cf\">\n",
              "  <button class=\"colab-df-quickchart\" onclick=\"quickchart('df-6020274a-5d3c-47a6-ade8-6faa1e7855cf')\"\n",
              "            title=\"Suggest charts.\"\n",
              "            style=\"display:none;\">\n",
              "\n",
              "<svg xmlns=\"http://www.w3.org/2000/svg\" height=\"24px\"viewBox=\"0 0 24 24\"\n",
              "     width=\"24px\">\n",
              "    <g>\n",
              "        <path d=\"M19 3H5c-1.1 0-2 .9-2 2v14c0 1.1.9 2 2 2h14c1.1 0 2-.9 2-2V5c0-1.1-.9-2-2-2zM9 17H7v-7h2v7zm4 0h-2V7h2v10zm4 0h-2v-4h2v4z\"/>\n",
              "    </g>\n",
              "</svg>\n",
              "  </button>\n",
              "\n",
              "<style>\n",
              "  .colab-df-quickchart {\n",
              "    background-color: #E8F0FE;\n",
              "    border: none;\n",
              "    border-radius: 50%;\n",
              "    cursor: pointer;\n",
              "    display: none;\n",
              "    fill: #1967D2;\n",
              "    height: 32px;\n",
              "    padding: 0 0 0 0;\n",
              "    width: 32px;\n",
              "  }\n",
              "\n",
              "  .colab-df-quickchart:hover {\n",
              "    background-color: #E2EBFA;\n",
              "    box-shadow: 0px 1px 2px rgba(60, 64, 67, 0.3), 0px 1px 3px 1px rgba(60, 64, 67, 0.15);\n",
              "    fill: #174EA6;\n",
              "  }\n",
              "\n",
              "  [theme=dark] .colab-df-quickchart {\n",
              "    background-color: #3B4455;\n",
              "    fill: #D2E3FC;\n",
              "  }\n",
              "\n",
              "  [theme=dark] .colab-df-quickchart:hover {\n",
              "    background-color: #434B5C;\n",
              "    box-shadow: 0px 1px 3px 1px rgba(0, 0, 0, 0.15);\n",
              "    filter: drop-shadow(0px 1px 2px rgba(0, 0, 0, 0.3));\n",
              "    fill: #FFFFFF;\n",
              "  }\n",
              "</style>\n",
              "\n",
              "  <script>\n",
              "    async function quickchart(key) {\n",
              "      const charts = await google.colab.kernel.invokeFunction(\n",
              "          'suggestCharts', [key], {});\n",
              "    }\n",
              "    (() => {\n",
              "      let quickchartButtonEl =\n",
              "        document.querySelector('#df-6020274a-5d3c-47a6-ade8-6faa1e7855cf button');\n",
              "      quickchartButtonEl.style.display =\n",
              "        google.colab.kernel.accessAllowed ? 'block' : 'none';\n",
              "    })();\n",
              "  </script>\n",
              "</div>\n",
              "    </div>\n",
              "  </div>\n"
            ]
          },
          "metadata": {},
          "execution_count": 7
        }
      ]
    },
    {
      "cell_type": "markdown",
      "source": [
        "The following Codes below are to understand the correlation in the data set\n",
        "\n",
        "  1. Positive Correlation\n",
        "  2. Negative Correlation"
      ],
      "metadata": {
        "id": "QuLcuZgpCG0P"
      }
    },
    {
      "cell_type": "code",
      "source": [
        "correlation = house_prices.corr()\n",
        "#plotting the correlation\n",
        "plt.figure(figsize = (10,10))\n",
        "sns.heatmap(correlation, cbar = True, square = True, fmt = '.1f' , annot = True, annot_kws = {'size':8}, cmap = 'Blues')"
      ],
      "metadata": {
        "colab": {
          "base_uri": "https://localhost:8080/",
          "height": 842
        },
        "id": "NkH4MzubAfga",
        "outputId": "b6c3e68d-832a-46a2-8c03-d2cd190641c4"
      },
      "execution_count": 8,
      "outputs": [
        {
          "output_type": "execute_result",
          "data": {
            "text/plain": [
              "<Axes: >"
            ]
          },
          "metadata": {},
          "execution_count": 8
        },
        {
          "output_type": "display_data",
          "data": {
            "text/plain": [
              "<Figure size 1000x1000 with 2 Axes>"
            ],
            "image/png": "[encoded data removed]"
          },
          "metadata": {}
        }
      ]
    },
    {
      "cell_type": "markdown",
      "source": [
        "Splitting the Data and the Target"
      ],
      "metadata": {
        "id": "L_wGnV8dKMlE"
      }
    },
    {
      "cell_type": "code",
      "source": [
        "X = house_prices.drop(['Prices'], axis = 1) #When dropping a column, axis = 1, and when dropping a row, axis = 0\n",
        "Y = house_prices['Prices']\n",
        "print(X)\n",
        "print(Y)"
      ],
      "metadata": {
        "colab": {
          "base_uri": "https://localhost:8080/"
        },
        "id": "Y6XsLoq7C9nG",
        "outputId": "3fe071d9-1bd6-4358-80ff-df9da4cce3e7"
      },
      "execution_count": 9,
      "outputs": [
        {
          "output_type": "stream",
          "name": "stdout",
          "text": [
            "       MedInc  HouseAge  AveRooms  ...  AveOccup  Latitude  Longitude\n",
            "0      8.3252      41.0  6.984127  ...  2.555556     37.88    -122.23\n",
            "1      8.3014      21.0  6.238137  ...  2.109842     37.86    -122.22\n",
            "2      7.2574      52.0  8.288136  ...  2.802260     37.85    -122.24\n",
            "3      5.6431      52.0  5.817352  ...  2.547945     37.85    -122.25\n",
            "4      3.8462      52.0  6.281853  ...  2.181467     37.85    -122.25\n",
            "...       ...       ...       ...  ...       ...       ...        ...\n",
            "20635  1.5603      25.0  5.045455  ...  2.560606     39.48    -121.09\n",
            "20636  2.5568      18.0  6.114035  ...  3.122807     39.49    -121.21\n",
            "20637  1.7000      17.0  5.205543  ...  2.325635     39.43    -121.22\n",
            "20638  1.8672      18.0  5.329513  ...  2.123209     39.43    -121.32\n",
            "20639  2.3886      16.0  5.254717  ...  2.616981     39.37    -121.24\n",
            "\n",
            "[20640 rows x 8 columns]\n",
            "0        4.526\n",
            "1        3.585\n",
            "2        3.521\n",
            "3        3.413\n",
            "4        3.422\n",
            "         ...  \n",
            "20635    0.781\n",
            "20636    0.771\n",
            "20637    0.923\n",
            "20638    0.847\n",
            "20639    0.894\n",
            "Name: Prices, Length: 20640, dtype: float64\n"
          ]
        }
      ]
    },
    {
      "cell_type": "markdown",
      "source": [
        "Splitting the data into Training Set and Test Data"
      ],
      "metadata": {
        "id": "JD0clTtuLO8S"
      }
    },
    {
      "cell_type": "code",
      "source": [
        "X_train, X_test, Y_train, Y_test = train_test_split(X, Y, test_size = 0.2, random_state = 2)\n",
        "#test_size = 0.2 means 20 Percent will be in the test data, while rest are in the training data\n"
      ],
      "metadata": {
        "id": "Le9i1DM9Kp9N"
      },
      "execution_count": 10,
      "outputs": []
    },
    {
      "cell_type": "code",
      "source": [
        "print(X.shape, X_train.shape, X_test.shape)"
      ],
      "metadata": {
        "colab": {
          "base_uri": "https://localhost:8080/"
        },
        "id": "d9UhVnckN6e6",
        "outputId": "7c312597-5dd1-4e52-e74f-b25451a89e27"
      },
      "execution_count": 11,
      "outputs": [
        {
          "output_type": "stream",
          "name": "stdout",
          "text": [
            "(20640, 8) (16512, 8) (4128, 8)\n"
          ]
        }
      ]
    },
    {
      "cell_type": "markdown",
      "source": [
        "Training our model"
      ],
      "metadata": {
        "id": "hAgg_4USOx59"
      }
    },
    {
      "cell_type": "code",
      "source": [
        "\n",
        "model = Sequential([\n",
        "    Dense(units = 14, activation = 'relu'),\n",
        "    Dense(units = 50, activation = 'relu'),\n",
        "    Dense(units = 1)\n",
        "                  ])\n",
        "model.compile(optimizer = tf.keras.optimizers.Adam(learning_rate = 0.0005), loss = 'mse') #gradient descent with loss being mean squared error\n",
        "model.fit(X_train, Y_train, epochs = 200)\n",
        "\n"
      ],
      "metadata": {
        "colab": {
          "base_uri": "https://localhost:8080/"
        },
        "id": "QxbjdTnCN92b",
        "outputId": "3768762c-0dda-4456-be03-2a8db08181df"
      },
      "execution_count": 44,
      "outputs": [
        {
          "output_type": "stream",
          "name": "stdout",
          "text": [
            "Epoch 1/200\n",
            "516/516 [==============================] - 2s 2ms/step - loss: 59.4338\n",
            "Epoch 2/200\n",
            "516/516 [==============================] - 1s 2ms/step - loss: 2.6898\n",
            "Epoch 3/200\n",
            "516/516 [==============================] - 1s 2ms/step - loss: 5.9107\n",
            "Epoch 4/200\n",
            "516/516 [==============================] - 1s 2ms/step - loss: 1.1393\n",
            "Epoch 5/200\n",
            "516/516 [==============================] - 1s 2ms/step - loss: 1.0655\n",
            "Epoch 6/200\n",
            "516/516 [==============================] - 1s 2ms/step - loss: 4.8895\n",
            "Epoch 7/200\n",
            "516/516 [==============================] - 1s 2ms/step - loss: 0.9581\n",
            "Epoch 8/200\n",
            "516/516 [==============================] - 1s 2ms/step - loss: 1.3988\n",
            "Epoch 9/200\n",
            "516/516 [==============================] - 1s 3ms/step - loss: 7.4433\n",
            "Epoch 10/200\n",
            "516/516 [==============================] - 2s 3ms/step - loss: 0.8234\n",
            "Epoch 11/200\n",
            "516/516 [==============================] - 1s 2ms/step - loss: 5.1259\n",
            "Epoch 12/200\n",
            "516/516 [==============================] - 1s 2ms/step - loss: 1.4535\n",
            "Epoch 13/200\n",
            "516/516 [==============================] - 1s 2ms/step - loss: 3.6790\n",
            "Epoch 14/200\n",
            "516/516 [==============================] - 1s 2ms/step - loss: 1.0301\n",
            "Epoch 15/200\n",
            "516/516 [==============================] - 1s 2ms/step - loss: 1.3354\n",
            "Epoch 16/200\n",
            "516/516 [==============================] - 1s 2ms/step - loss: 1.7567\n",
            "Epoch 17/200\n",
            "516/516 [==============================] - 1s 2ms/step - loss: 7.3404\n",
            "Epoch 18/200\n",
            "516/516 [==============================] - 1s 2ms/step - loss: 1.5152\n",
            "Epoch 19/200\n",
            "516/516 [==============================] - 1s 2ms/step - loss: 2.4411\n",
            "Epoch 20/200\n",
            "516/516 [==============================] - 1s 2ms/step - loss: 5.5067\n",
            "Epoch 21/200\n",
            "516/516 [==============================] - 1s 3ms/step - loss: 0.7666\n",
            "Epoch 22/200\n",
            "516/516 [==============================] - 1s 2ms/step - loss: 1.0542\n",
            "Epoch 23/200\n",
            "516/516 [==============================] - 1s 2ms/step - loss: 1.3239\n",
            "Epoch 24/200\n",
            "516/516 [==============================] - 1s 2ms/step - loss: 7.4281\n",
            "Epoch 25/200\n",
            "516/516 [==============================] - 1s 2ms/step - loss: 0.8228\n",
            "Epoch 26/200\n",
            "516/516 [==============================] - 1s 2ms/step - loss: 0.9639\n",
            "Epoch 27/200\n",
            "516/516 [==============================] - 1s 2ms/step - loss: 1.4275\n",
            "Epoch 28/200\n",
            "516/516 [==============================] - 1s 2ms/step - loss: 1.5583\n",
            "Epoch 29/200\n",
            "516/516 [==============================] - 1s 2ms/step - loss: 0.8785\n",
            "Epoch 30/200\n",
            "516/516 [==============================] - 1s 2ms/step - loss: 8.9000\n",
            "Epoch 31/200\n",
            "516/516 [==============================] - 1s 2ms/step - loss: 0.7285\n",
            "Epoch 32/200\n",
            "516/516 [==============================] - 1s 3ms/step - loss: 1.2446\n",
            "Epoch 33/200\n",
            "516/516 [==============================] - 2s 3ms/step - loss: 1.7235\n",
            "Epoch 34/200\n",
            "516/516 [==============================] - 1s 2ms/step - loss: 0.9157\n",
            "Epoch 35/200\n",
            "516/516 [==============================] - 1s 2ms/step - loss: 5.2883\n",
            "Epoch 36/200\n",
            "516/516 [==============================] - 1s 2ms/step - loss: 0.7542\n",
            "Epoch 37/200\n",
            "516/516 [==============================] - 1s 2ms/step - loss: 1.7082\n",
            "Epoch 38/200\n",
            "516/516 [==============================] - 1s 2ms/step - loss: 2.4907\n",
            "Epoch 39/200\n",
            "516/516 [==============================] - 1s 2ms/step - loss: 0.8733\n",
            "Epoch 40/200\n",
            "516/516 [==============================] - 1s 2ms/step - loss: 1.2773\n",
            "Epoch 41/200\n",
            "516/516 [==============================] - 1s 2ms/step - loss: 1.3297\n",
            "Epoch 42/200\n",
            "516/516 [==============================] - 1s 2ms/step - loss: 1.6407\n",
            "Epoch 43/200\n",
            "516/516 [==============================] - 1s 2ms/step - loss: 4.7357\n",
            "Epoch 44/200\n",
            "516/516 [==============================] - 1s 2ms/step - loss: 0.7417\n",
            "Epoch 45/200\n",
            "516/516 [==============================] - 2s 3ms/step - loss: 1.0590\n",
            "Epoch 46/200\n",
            "516/516 [==============================] - 1s 3ms/step - loss: 1.3849\n",
            "Epoch 47/200\n",
            "516/516 [==============================] - 1s 2ms/step - loss: 1.0783\n",
            "Epoch 48/200\n",
            "516/516 [==============================] - 1s 2ms/step - loss: 3.4870\n",
            "Epoch 49/200\n",
            "516/516 [==============================] - 1s 2ms/step - loss: 1.1265\n",
            "Epoch 50/200\n",
            "516/516 [==============================] - 1s 2ms/step - loss: 0.7491\n",
            "Epoch 51/200\n",
            "516/516 [==============================] - 1s 2ms/step - loss: 33.9861\n",
            "Epoch 52/200\n",
            "516/516 [==============================] - 1s 2ms/step - loss: 0.7602\n",
            "Epoch 53/200\n",
            "516/516 [==============================] - 1s 2ms/step - loss: 0.6722\n",
            "Epoch 54/200\n",
            "516/516 [==============================] - 1s 2ms/step - loss: 0.7204\n",
            "Epoch 55/200\n",
            "516/516 [==============================] - 1s 2ms/step - loss: 0.6778\n",
            "Epoch 56/200\n",
            "516/516 [==============================] - 1s 2ms/step - loss: 0.7988\n",
            "Epoch 57/200\n",
            "516/516 [==============================] - 2s 3ms/step - loss: 1.1273\n",
            "Epoch 58/200\n",
            "516/516 [==============================] - 1s 3ms/step - loss: 0.8230\n",
            "Epoch 59/200\n",
            "516/516 [==============================] - 1s 2ms/step - loss: 2.7277\n",
            "Epoch 60/200\n",
            "516/516 [==============================] - 1s 2ms/step - loss: 0.7751\n",
            "Epoch 61/200\n",
            "516/516 [==============================] - 1s 2ms/step - loss: 1.9029\n",
            "Epoch 62/200\n",
            "516/516 [==============================] - 1s 2ms/step - loss: 1.0083\n",
            "Epoch 63/200\n",
            "516/516 [==============================] - 1s 2ms/step - loss: 1.2366\n",
            "Epoch 64/200\n",
            "516/516 [==============================] - 1s 2ms/step - loss: 1.5706\n",
            "Epoch 65/200\n",
            "516/516 [==============================] - 1s 2ms/step - loss: 0.8016\n",
            "Epoch 66/200\n",
            "516/516 [==============================] - 1s 2ms/step - loss: 1.0678\n",
            "Epoch 67/200\n",
            "516/516 [==============================] - 1s 2ms/step - loss: 3.1925\n",
            "Epoch 68/200\n",
            "516/516 [==============================] - 2s 3ms/step - loss: 2.1874\n",
            "Epoch 69/200\n",
            "516/516 [==============================] - 2s 3ms/step - loss: 0.7555\n",
            "Epoch 70/200\n",
            "516/516 [==============================] - 1s 2ms/step - loss: 0.7293\n",
            "Epoch 71/200\n",
            "516/516 [==============================] - 1s 2ms/step - loss: 0.8457\n",
            "Epoch 72/200\n",
            "516/516 [==============================] - 1s 2ms/step - loss: 2.6096\n",
            "Epoch 73/200\n",
            "516/516 [==============================] - 1s 2ms/step - loss: 0.9092\n",
            "Epoch 74/200\n",
            "516/516 [==============================] - 1s 2ms/step - loss: 8.5095\n",
            "Epoch 75/200\n",
            "516/516 [==============================] - 1s 2ms/step - loss: 0.6703\n",
            "Epoch 76/200\n",
            "516/516 [==============================] - 1s 2ms/step - loss: 0.7328\n",
            "Epoch 77/200\n",
            "516/516 [==============================] - 1s 2ms/step - loss: 0.7507\n",
            "Epoch 78/200\n",
            "516/516 [==============================] - 1s 2ms/step - loss: 0.6718\n",
            "Epoch 79/200\n",
            "516/516 [==============================] - 1s 2ms/step - loss: 0.6741\n",
            "Epoch 80/200\n",
            "516/516 [==============================] - 1s 2ms/step - loss: 1.1006\n",
            "Epoch 81/200\n",
            "516/516 [==============================] - 2s 3ms/step - loss: 1.6000\n",
            "Epoch 82/200\n",
            "516/516 [==============================] - 1s 2ms/step - loss: 0.8411\n",
            "Epoch 83/200\n",
            "516/516 [==============================] - 1s 2ms/step - loss: 4.9900\n",
            "Epoch 84/200\n",
            "516/516 [==============================] - 1s 2ms/step - loss: 0.8658\n",
            "Epoch 85/200\n",
            "516/516 [==============================] - 1s 2ms/step - loss: 0.6857\n",
            "Epoch 86/200\n",
            "516/516 [==============================] - 1s 2ms/step - loss: 0.9003\n",
            "Epoch 87/200\n",
            "516/516 [==============================] - 1s 2ms/step - loss: 1.9325\n",
            "Epoch 88/200\n",
            "516/516 [==============================] - 1s 2ms/step - loss: 1.2683\n",
            "Epoch 89/200\n",
            "516/516 [==============================] - 1s 2ms/step - loss: 0.7378\n",
            "Epoch 90/200\n",
            "516/516 [==============================] - 1s 2ms/step - loss: 2.8751\n",
            "Epoch 91/200\n",
            "516/516 [==============================] - 1s 2ms/step - loss: 1.4736\n",
            "Epoch 92/200\n",
            "516/516 [==============================] - 2s 3ms/step - loss: 1.3291\n",
            "Epoch 93/200\n",
            "516/516 [==============================] - 1s 2ms/step - loss: 0.8100\n",
            "Epoch 94/200\n",
            "516/516 [==============================] - 1s 2ms/step - loss: 0.7202\n",
            "Epoch 95/200\n",
            "516/516 [==============================] - 1s 2ms/step - loss: 0.7142\n",
            "Epoch 96/200\n",
            "516/516 [==============================] - 1s 2ms/step - loss: 4.7423\n",
            "Epoch 97/200\n",
            "516/516 [==============================] - 1s 2ms/step - loss: 0.7838\n",
            "Epoch 98/200\n",
            "516/516 [==============================] - 1s 2ms/step - loss: 0.6359\n",
            "Epoch 99/200\n",
            "516/516 [==============================] - 1s 2ms/step - loss: 0.9500\n",
            "Epoch 100/200\n",
            "516/516 [==============================] - 1s 2ms/step - loss: 1.7864\n",
            "Epoch 101/200\n",
            "516/516 [==============================] - 1s 2ms/step - loss: 0.6915\n",
            "Epoch 102/200\n",
            "516/516 [==============================] - 1s 2ms/step - loss: 0.9509\n",
            "Epoch 103/200\n",
            "516/516 [==============================] - 1s 2ms/step - loss: 0.9905\n",
            "Epoch 104/200\n",
            "516/516 [==============================] - 2s 3ms/step - loss: 0.9443\n",
            "Epoch 105/200\n",
            "516/516 [==============================] - 2s 3ms/step - loss: 0.7933\n",
            "Epoch 106/200\n",
            "516/516 [==============================] - 1s 2ms/step - loss: 0.9754\n",
            "Epoch 107/200\n",
            "516/516 [==============================] - 1s 2ms/step - loss: 0.8060\n",
            "Epoch 108/200\n",
            "516/516 [==============================] - 1s 2ms/step - loss: 3.1547\n",
            "Epoch 109/200\n",
            "516/516 [==============================] - 1s 2ms/step - loss: 0.7274\n",
            "Epoch 110/200\n",
            "516/516 [==============================] - 1s 2ms/step - loss: 0.6799\n",
            "Epoch 111/200\n",
            "516/516 [==============================] - 1s 2ms/step - loss: 0.6537\n",
            "Epoch 112/200\n",
            "516/516 [==============================] - 1s 2ms/step - loss: 0.9305\n",
            "Epoch 113/200\n",
            "516/516 [==============================] - 1s 2ms/step - loss: 0.9347\n",
            "Epoch 114/200\n",
            "516/516 [==============================] - 1s 2ms/step - loss: 1.0813\n",
            "Epoch 115/200\n",
            "516/516 [==============================] - 1s 2ms/step - loss: 0.6815\n",
            "Epoch 116/200\n",
            "516/516 [==============================] - 1s 3ms/step - loss: 3.5739\n",
            "Epoch 117/200\n",
            "516/516 [==============================] - 2s 3ms/step - loss: 0.6932\n",
            "Epoch 118/200\n",
            "516/516 [==============================] - 1s 2ms/step - loss: 0.6120\n",
            "Epoch 119/200\n",
            "516/516 [==============================] - 1s 2ms/step - loss: 1.0904\n",
            "Epoch 120/200\n",
            "516/516 [==============================] - 1s 2ms/step - loss: 1.6829\n",
            "Epoch 121/200\n",
            "516/516 [==============================] - 1s 2ms/step - loss: 1.0853\n",
            "Epoch 122/200\n",
            "516/516 [==============================] - 1s 2ms/step - loss: 0.6350\n",
            "Epoch 123/200\n",
            "516/516 [==============================] - 1s 2ms/step - loss: 0.6237\n",
            "Epoch 124/200\n",
            "516/516 [==============================] - 1s 2ms/step - loss: 0.7535\n",
            "Epoch 125/200\n",
            "516/516 [==============================] - 1s 2ms/step - loss: 0.8854\n",
            "Epoch 126/200\n",
            "516/516 [==============================] - 1s 2ms/step - loss: 1.3097\n",
            "Epoch 127/200\n",
            "516/516 [==============================] - 2s 3ms/step - loss: 0.7121\n",
            "Epoch 128/200\n",
            "516/516 [==============================] - 1s 3ms/step - loss: 0.5914\n",
            "Epoch 129/200\n",
            "516/516 [==============================] - 1s 2ms/step - loss: 0.6351\n",
            "Epoch 130/200\n",
            "516/516 [==============================] - 1s 2ms/step - loss: 0.6747\n",
            "Epoch 131/200\n",
            "516/516 [==============================] - 1s 2ms/step - loss: 1.4761\n",
            "Epoch 132/200\n",
            "516/516 [==============================] - 1s 2ms/step - loss: 1.2138\n",
            "Epoch 133/200\n",
            "516/516 [==============================] - 1s 2ms/step - loss: 0.6342\n",
            "Epoch 134/200\n",
            "516/516 [==============================] - 1s 2ms/step - loss: 0.6010\n",
            "Epoch 135/200\n",
            "516/516 [==============================] - 1s 2ms/step - loss: 1.1241\n",
            "Epoch 136/200\n",
            "516/516 [==============================] - 1s 2ms/step - loss: 0.7941\n",
            "Epoch 137/200\n",
            "516/516 [==============================] - 1s 2ms/step - loss: 0.6679\n",
            "Epoch 138/200\n",
            "516/516 [==============================] - 1s 2ms/step - loss: 0.8247\n",
            "Epoch 139/200\n",
            "516/516 [==============================] - 2s 3ms/step - loss: 0.7236\n",
            "Epoch 140/200\n",
            "516/516 [==============================] - 1s 3ms/step - loss: 0.5873\n",
            "Epoch 141/200\n",
            "516/516 [==============================] - 1s 2ms/step - loss: 1.2585\n",
            "Epoch 142/200\n",
            "516/516 [==============================] - 1s 2ms/step - loss: 0.6200\n",
            "Epoch 143/200\n",
            "516/516 [==============================] - 1s 2ms/step - loss: 0.6628\n",
            "Epoch 144/200\n",
            "516/516 [==============================] - 1s 2ms/step - loss: 0.5919\n",
            "Epoch 145/200\n",
            "516/516 [==============================] - 1s 2ms/step - loss: 0.6366\n",
            "Epoch 146/200\n",
            "516/516 [==============================] - 1s 2ms/step - loss: 0.6556\n",
            "Epoch 147/200\n",
            "516/516 [==============================] - 1s 2ms/step - loss: 0.7472\n",
            "Epoch 148/200\n",
            "516/516 [==============================] - 1s 2ms/step - loss: 2.9400\n",
            "Epoch 149/200\n",
            "516/516 [==============================] - 1s 2ms/step - loss: 0.6898\n",
            "Epoch 150/200\n",
            "516/516 [==============================] - 1s 2ms/step - loss: 0.6738\n",
            "Epoch 151/200\n",
            "516/516 [==============================] - 1s 3ms/step - loss: 0.6577\n",
            "Epoch 152/200\n",
            "516/516 [==============================] - 1s 3ms/step - loss: 0.6689\n",
            "Epoch 153/200\n",
            "516/516 [==============================] - 1s 2ms/step - loss: 0.6129\n",
            "Epoch 154/200\n",
            "516/516 [==============================] - 1s 2ms/step - loss: 0.8541\n",
            "Epoch 155/200\n",
            "516/516 [==============================] - 1s 2ms/step - loss: 0.6455\n",
            "Epoch 156/200\n",
            "516/516 [==============================] - 1s 2ms/step - loss: 0.6210\n",
            "Epoch 157/200\n",
            "516/516 [==============================] - 1s 2ms/step - loss: 0.7767\n",
            "Epoch 158/200\n",
            "516/516 [==============================] - 1s 2ms/step - loss: 0.6618\n",
            "Epoch 159/200\n",
            "516/516 [==============================] - 1s 2ms/step - loss: 0.5918\n",
            "Epoch 160/200\n",
            "516/516 [==============================] - 1s 2ms/step - loss: 0.5670\n",
            "Epoch 161/200\n",
            "516/516 [==============================] - 1s 2ms/step - loss: 0.6558\n",
            "Epoch 162/200\n",
            "516/516 [==============================] - 1s 2ms/step - loss: 0.7072\n",
            "Epoch 163/200\n",
            "516/516 [==============================] - 2s 3ms/step - loss: 0.5862\n",
            "Epoch 164/200\n",
            "516/516 [==============================] - 1s 3ms/step - loss: 0.5768\n",
            "Epoch 165/200\n",
            "516/516 [==============================] - 2s 3ms/step - loss: 0.5623\n",
            "Epoch 166/200\n",
            "516/516 [==============================] - 2s 3ms/step - loss: 0.5492\n",
            "Epoch 167/200\n",
            "516/516 [==============================] - 1s 2ms/step - loss: 0.5842\n",
            "Epoch 168/200\n",
            "516/516 [==============================] - 1s 2ms/step - loss: 0.7484\n",
            "Epoch 169/200\n",
            "516/516 [==============================] - 1s 2ms/step - loss: 0.5849\n",
            "Epoch 170/200\n",
            "516/516 [==============================] - 1s 2ms/step - loss: 0.5200\n",
            "Epoch 171/200\n",
            "516/516 [==============================] - 1s 2ms/step - loss: 0.5451\n",
            "Epoch 172/200\n",
            "516/516 [==============================] - 1s 2ms/step - loss: 0.5390\n",
            "Epoch 173/200\n",
            "516/516 [==============================] - 1s 3ms/step - loss: 0.5319\n",
            "Epoch 174/200\n",
            "516/516 [==============================] - 2s 3ms/step - loss: 0.6038\n",
            "Epoch 175/200\n",
            "516/516 [==============================] - 1s 2ms/step - loss: 0.5832\n",
            "Epoch 176/200\n",
            "516/516 [==============================] - 1s 2ms/step - loss: 0.6312\n",
            "Epoch 177/200\n",
            "516/516 [==============================] - 1s 2ms/step - loss: 0.5674\n",
            "Epoch 178/200\n",
            "516/516 [==============================] - 1s 2ms/step - loss: 0.5613\n",
            "Epoch 179/200\n",
            "516/516 [==============================] - 1s 2ms/step - loss: 0.5297\n",
            "Epoch 180/200\n",
            "516/516 [==============================] - 1s 2ms/step - loss: 0.5065\n",
            "Epoch 181/200\n",
            "516/516 [==============================] - 1s 2ms/step - loss: 0.5243\n",
            "Epoch 182/200\n",
            "516/516 [==============================] - 1s 2ms/step - loss: 0.5506\n",
            "Epoch 183/200\n",
            "516/516 [==============================] - 1s 2ms/step - loss: 0.5933\n",
            "Epoch 184/200\n",
            "516/516 [==============================] - 1s 2ms/step - loss: 0.6144\n",
            "Epoch 185/200\n",
            "516/516 [==============================] - 1s 3ms/step - loss: 0.4939\n",
            "Epoch 186/200\n",
            "516/516 [==============================] - 1s 3ms/step - loss: 0.5305\n",
            "Epoch 187/200\n",
            "516/516 [==============================] - 1s 2ms/step - loss: 0.5133\n",
            "Epoch 188/200\n",
            "516/516 [==============================] - 1s 2ms/step - loss: 0.7035\n",
            "Epoch 189/200\n",
            "516/516 [==============================] - 1s 2ms/step - loss: 0.5342\n",
            "Epoch 190/200\n",
            "516/516 [==============================] - 1s 2ms/step - loss: 0.5436\n",
            "Epoch 191/200\n",
            "516/516 [==============================] - 1s 2ms/step - loss: 0.5411\n",
            "Epoch 192/200\n",
            "516/516 [==============================] - 1s 2ms/step - loss: 0.4951\n",
            "Epoch 193/200\n",
            "516/516 [==============================] - 1s 2ms/step - loss: 0.5443\n",
            "Epoch 194/200\n",
            "516/516 [==============================] - 1s 3ms/step - loss: 0.5331\n",
            "Epoch 195/200\n",
            "516/516 [==============================] - 2s 3ms/step - loss: 0.5023\n",
            "Epoch 196/200\n",
            "516/516 [==============================] - 2s 3ms/step - loss: 0.4980\n",
            "Epoch 197/200\n",
            "516/516 [==============================] - 1s 3ms/step - loss: 0.5340\n",
            "Epoch 198/200\n",
            "516/516 [==============================] - 1s 2ms/step - loss: 0.5434\n",
            "Epoch 199/200\n",
            "516/516 [==============================] - 1s 2ms/step - loss: 0.4991\n",
            "Epoch 200/200\n",
            "516/516 [==============================] - 1s 2ms/step - loss: 0.5621\n"
          ]
        },
        {
          "output_type": "execute_result",
          "data": {
            "text/plain": [
              "<keras.callbacks.History at 0x7e122b53edd0>"
            ]
          },
          "metadata": {},
          "execution_count": 44
        }
      ]
    },
    {
      "cell_type": "code",
      "source": [
        "from sklearn.metrics import mean_squared_error, mean_absolute_error\n",
        "\n",
        "# Make predictions on the test set\n",
        "#predictions = model.predict(X_test)\n",
        "predictions = model.predict(X_test)\n",
        "\n",
        "print(predictions)\n",
        "# Calculate the mean squared error\n",
        "mse = mean_squared_error(Y_test, predictions)\n",
        "mae = mean_absolute_error(Y_test, predictions)\n",
        "print(f\"Mean Squared Error: {mse}\")\n",
        "print(f\"Mean Absolute Error: {mae}\")\n",
        "\n"
      ],
      "metadata": {
        "colab": {
          "base_uri": "https://localhost:8080/"
        },
        "id": "yvehUBIcLIP1",
        "outputId": "1714d2f5-9edc-4db2-835b-c1a9eb294145"
      },
      "execution_count": 45,
      "outputs": [
        {
          "output_type": "stream",
          "name": "stdout",
          "text": [
            "129/129 [==============================] - 0s 3ms/step\n",
            "[[2.9537995]\n",
            " [1.5958875]\n",
            " [0.8315004]\n",
            " ...\n",
            " [1.2205248]\n",
            " [0.9911343]\n",
            " [2.5474842]]\n",
            "Mean Squared Error: 0.5000286019336551\n",
            "Mean Absolute Error: 0.5281199876859145\n"
          ]
        }
      ]
    },
    {
      "cell_type": "markdown",
      "source": [
        "Visualizing the Predicted and Actual Prices"
      ],
      "metadata": {
        "id": "BEGt1T-vR7Ld"
      }
    },
    {
      "cell_type": "code",
      "source": [
        "plt.scatter(Y_test, predictions)\n",
        "plt.xlabel('Actual Prices')\n",
        "plt.ylabel('Predicted Prices')\n",
        "plt.show()"
      ],
      "metadata": {
        "colab": {
          "base_uri": "https://localhost:8080/",
          "height": 449
        },
        "id": "r0deeEAARMNM",
        "outputId": "98a95476-8e9b-4eb5-b95b-fc753cd02beb"
      },
      "execution_count": 46,
      "outputs": [
        {
          "output_type": "display_data",
          "data": {
            "text/plain": [
              "<Figure size 640x480 with 1 Axes>"
            ],
            "image/png": "[encoded data removed]"
          },
          "metadata": {}
        }
      ]
    },
    {
      "cell_type": "code",
      "source": [],
      "metadata": {
        "id": "NNqXWutoSJE9"
      },
      "execution_count": null,
      "outputs": []
    }
  ]
}